{
 "cells": [
  {
   "cell_type": "markdown",
   "id": "e552690d",
   "metadata": {},
   "source": [
    "While we can solve this problem through a hashset, that only solves this in O(n) times. We can solve this through the XOR statement."
   ]
  },
  {
   "cell_type": "code",
   "execution_count": 3,
   "id": "afaf1ede",
   "metadata": {},
   "outputs": [
    {
     "data": {
      "text/plain": [
       "1"
      ]
     },
     "execution_count": 3,
     "metadata": {},
     "output_type": "execute_result"
    }
   ],
   "source": [
    "nums = [2,2,1]\n",
    "def singleNumber(nums):\n",
    "    res = 0\n",
    "    for n in nums:\n",
    "        res = n ^ res\n",
    "    return res\n",
    "\n",
    "singleNumber(nums)"
   ]
  },
  {
   "cell_type": "code",
   "execution_count": null,
   "id": "29884819",
   "metadata": {},
   "outputs": [],
   "source": []
  }
 ],
 "metadata": {
  "kernelspec": {
   "display_name": "Python 3",
   "language": "python",
   "name": "python3"
  },
  "language_info": {
   "codemirror_mode": {
    "name": "ipython",
    "version": 3
   },
   "file_extension": ".py",
   "mimetype": "text/x-python",
   "name": "python",
   "nbconvert_exporter": "python",
   "pygments_lexer": "ipython3",
   "version": "3.8.8"
  }
 },
 "nbformat": 4,
 "nbformat_minor": 5
}
