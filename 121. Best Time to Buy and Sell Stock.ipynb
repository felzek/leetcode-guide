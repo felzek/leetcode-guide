{
 "cells": [
  {
   "cell_type": "code",
   "execution_count": 5,
   "id": "86d8eebd",
   "metadata": {},
   "outputs": [
    {
     "data": {
      "text/plain": [
       "5"
      ]
     },
     "execution_count": 5,
     "metadata": {},
     "output_type": "execute_result"
    }
   ],
   "source": [
    "# Brute Force\n",
    "prices = [7,1,5,3,6,4]\n",
    "def maxProfit(prices) -> int:\n",
    "    max_profit = 0\n",
    "    for i in range(len(prices)):\n",
    "        for j in range(i,len(prices)):\n",
    "            profit = prices[j] - prices[i]\n",
    "            if profit > max_profit:\n",
    "                max_profit = profit\n",
    "    return max_profit\n",
    "maxProfit(prices)"
   ]
  },
  {
   "cell_type": "code",
   "execution_count": null,
   "id": "989d0b66",
   "metadata": {},
   "outputs": [],
   "source": []
  }
 ],
 "metadata": {
  "kernelspec": {
   "display_name": "Python 3",
   "language": "python",
   "name": "python3"
  },
  "language_info": {
   "codemirror_mode": {
    "name": "ipython",
    "version": 3
   },
   "file_extension": ".py",
   "mimetype": "text/x-python",
   "name": "python",
   "nbconvert_exporter": "python",
   "pygments_lexer": "ipython3",
   "version": "3.8.8"
  }
 },
 "nbformat": 4,
 "nbformat_minor": 5
}
