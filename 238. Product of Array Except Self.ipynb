{
 "cells": [
  {
   "cell_type": "markdown",
   "id": "66d15c92",
   "metadata": {},
   "source": [
    "Brute Force, but O(n^2) times and not very efficient"
   ]
  },
  {
   "cell_type": "code",
   "execution_count": 13,
   "id": "edb26295",
   "metadata": {},
   "outputs": [
    {
     "data": {
      "text/plain": [
       "[24, 12, 8, 6]"
      ]
     },
     "execution_count": 13,
     "metadata": {},
     "output_type": "execute_result"
    }
   ],
   "source": [
    "nums = [1,2,3,4]\n",
    "\n",
    "def productExceptSelf(nums):   \n",
    "    products = []\n",
    "    for i in range(len(nums)):\n",
    "        product = 1\n",
    "        for j in range(len(nums)):\n",
    "            if j != i:\n",
    "                product = product * nums[j]\n",
    "\n",
    "        products.append(product)\n",
    "    return products\n",
    "productExceptSelf(nums)"
   ]
  },
  {
   "cell_type": "markdown",
   "id": "572cdedf",
   "metadata": {},
   "source": [
    "Make two passes, first in-order, second in reverse to compute"
   ]
  },
  {
   "cell_type": "code",
   "execution_count": null,
   "id": "89e7e74b",
   "metadata": {},
   "outputs": [],
   "source": [
    "def productExceptSelf(nums):   \n",
    "    products = []\n",
    "    for i in range(len(nums)):\n",
    "        product = 1\n",
    "        for j in range(len(nums)):\n",
    "            if j != i:\n",
    "                product = product * nums[j]\n",
    "\n",
    "        products.append(product)\n",
    "    return products"
   ]
  }
 ],
 "metadata": {
  "kernelspec": {
   "display_name": "Python 3",
   "language": "python",
   "name": "python3"
  },
  "language_info": {
   "codemirror_mode": {
    "name": "ipython",
    "version": 3
   },
   "file_extension": ".py",
   "mimetype": "text/x-python",
   "name": "python",
   "nbconvert_exporter": "python",
   "pygments_lexer": "ipython3",
   "version": "3.8.8"
  }
 },
 "nbformat": 4,
 "nbformat_minor": 5
}
