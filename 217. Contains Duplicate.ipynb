{
 "cells": [
  {
   "cell_type": "markdown",
   "id": "aa0e94a2",
   "metadata": {},
   "source": [
    "So we can solve this problem with a Hashset, however this takes both o(n) time complexity and o(n) space complexity."
   ]
  },
  {
   "cell_type": "code",
   "execution_count": 4,
   "id": "fb4ab607",
   "metadata": {},
   "outputs": [
    {
     "data": {
      "text/plain": [
       "False"
      ]
     },
     "execution_count": 4,
     "metadata": {},
     "output_type": "execute_result"
    }
   ],
   "source": [
    "# Hashset solution\n",
    "nums = [1,2,3,1]\n",
    "\n",
    "def containsDuplicate(nums):\n",
    "    hash_set = set()\n",
    "    for num in nums:\n",
    "        if num in hash_set:\n",
    "            return True\n",
    "        hash_set.add(num)\n",
    "\n",
    "        return False\n",
    "\n",
    "containsDuplicate(nums)\n",
    "    "
   ]
  },
  {
   "cell_type": "code",
   "execution_count": null,
   "id": "ecaa6c54",
   "metadata": {},
   "outputs": [],
   "source": []
  }
 ],
 "metadata": {
  "kernelspec": {
   "display_name": "Python 3",
   "language": "python",
   "name": "python3"
  },
  "language_info": {
   "codemirror_mode": {
    "name": "ipython",
    "version": 3
   },
   "file_extension": ".py",
   "mimetype": "text/x-python",
   "name": "python",
   "nbconvert_exporter": "python",
   "pygments_lexer": "ipython3",
   "version": "3.8.8"
  }
 },
 "nbformat": 4,
 "nbformat_minor": 5
}
